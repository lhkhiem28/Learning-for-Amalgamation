{
 "cells": [
  {
   "cell_type": "code",
   "execution_count": null,
   "id": "59da51ce",
   "metadata": {},
   "outputs": [],
   "source": [
    "\"\"\"Main script for Maximal Correlation\n",
    "\"\"\"\n",
    "\n",
    "mode = \"tiny_imagenet\" #options are \"cifar,\" \"dogs,\" \"tiny_imagenet\"\n",
    "num_source_samps = 250 #recommend 500 for Cifar, 50 for Dogs, and 500 for tiny_imagenet\n",
    "num_target_samps = 5\n",
    "\n",
    "if mode == \"cifar\":\n",
    "    num_classes = 2\n",
    "elif mode == \"dogs\":\n",
    "    num_classes = 5\n",
    "elif mode == \"tiny_imagenet\":\n",
    "    num_classes = 5\n",
    "else:\n",
    "     raise Exception('Invalid dataset type')\n",
    "\n",
    "\n",
    "import torch\n",
    "import os\n",
    "import torch.nn as nn\n",
    "import torch.optim as optim\n",
    "import numpy as np\n",
    "from sklearn.svm import LinearSVC\n",
    "from sklearn.linear_model import LogisticRegression\n",
    "import tqdm\n",
    "import nets\n",
    "import datasets\n",
    "\n",
    "print(\"Extracting datasets...\")\n",
    "trainloader_source, trainloader_target, testloader = datasets.generate_dataset(mode, num_source_samps, num_target_samps)\n",
    "\n",
    "all_nets = []\n",
    "for i in range(len(trainloader_source)):\n",
    "    net = nets.generate_net(mode)\n",
    "    net.load_state_dict(torch.load(\"{}-shot/net_{}.pt\".format(num_target_samps, i)))\n",
    "    for param in net.parameters():\n",
    "        param.requires_grad = False\n",
    "    all_nets.append(net) #net[i][0] is just the first part up to the penultimate layer"
   ]
  },
  {
   "cell_type": "code",
   "execution_count": null,
   "id": "661fc918",
   "metadata": {},
   "outputs": [],
   "source": [
    "class Moe_Gating(nn.Module):\n",
    "    def __init__(self, all_nets):\n",
    "        super(Moe_Gating, self).__init__()\n",
    "        self.all_nets = all_nets\n",
    "        self.gate = nn.Linear(840, 10)\n",
    "#         self.dropout = nn.Dropout(0.1)\n",
    "        self.classifier = nn.Linear(84, 5)\n",
    "        \n",
    "    def forward(\n",
    "        self,\n",
    "        inputs\n",
    "    ):\n",
    "        outputs = []\n",
    "        for i in range(len(self.all_nets)):\n",
    "            outputs.append(self.all_nets[i][0](inputs))\n",
    "        \n",
    "        inputs_gate  = torch.cat(outputs, dim=1)\n",
    "        inputs_gate = inputs_gate.detach()\n",
    "        \n",
    "        \n",
    "        outputs_gate = self.gate(inputs_gate.float())\n",
    "        outputs_gate_softmax = torch.nn.functional.sigmoid(outputs_gate)\n",
    "        \n",
    "        sequence_outputs = torch.stack(outputs, dim=-1)\n",
    "        sequence_outputs = torch.sum(outputs_gate_softmax.unsqueeze(1) * sequence_outputs, dim=-1)\n",
    "\n",
    "#         sequence_outputs = self.dropout(sequence_outputs)\n",
    "        logits = self.classifier(sequence_outputs)\n",
    "        \n",
    "        return logits"
   ]
  },
  {
   "cell_type": "code",
   "execution_count": null,
   "id": "416e494c",
   "metadata": {},
   "outputs": [],
   "source": [
    "lifa = Moe_Gating(all_nets)\n",
    "criterion = nn.CrossEntropyLoss()\n",
    "optimizer = torch.optim.Adam(filter(lambda p: p.requires_grad, lifa.parameters()), lr=5e-3)"
   ]
  },
  {
   "cell_type": "code",
   "execution_count": null,
   "id": "23214db9",
   "metadata": {
    "scrolled": true
   },
   "outputs": [],
   "source": [
    "best_acc = 0.0\n",
    "\n",
    "for epoch in tqdm.tqdm(range(300)):\n",
    "    for inputs, labels in trainloader_target:\n",
    "        optimizer.zero_grad()\n",
    "        \n",
    "        outputs = lifa(inputs)\n",
    "        loss = criterion(outputs, labels.long())\n",
    "        loss.backward()\n",
    "        optimizer.step()\n",
    "\n",
    "    for inputs, labels in testloader:\n",
    "        outputs = lifa(inputs)\n",
    "        preds = torch.argmax(outputs, dim=1)\n",
    "    \n",
    "    acc = (sum(labels == preds) / len(labels)).item()\n",
    "    if acc > best_acc:\n",
    "        best_acc = acc\n",
    "        print(round(best_acc, 3))\n",
    "        \n",
    "print('Finished Training')"
   ]
  }
 ],
 "metadata": {
  "kernelspec": {
   "display_name": "venv",
   "language": "python",
   "name": "venv"
  },
  "language_info": {
   "codemirror_mode": {
    "name": "ipython",
    "version": 3
   },
   "file_extension": ".py",
   "mimetype": "text/x-python",
   "name": "python",
   "nbconvert_exporter": "python",
   "pygments_lexer": "ipython3",
   "version": "3.8.5"
  }
 },
 "nbformat": 4,
 "nbformat_minor": 5
}
